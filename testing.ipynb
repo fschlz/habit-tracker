{
 "metadata": {
  "language_info": {
   "codemirror_mode": {
    "name": "ipython",
    "version": 3
   },
   "file_extension": ".py",
   "mimetype": "text/x-python",
   "name": "python",
   "nbconvert_exporter": "python",
   "pygments_lexer": "ipython3",
   "version": "3.7.6-final"
  },
  "orig_nbformat": 2,
  "kernelspec": {
   "name": "python3",
   "display_name": "Python 3"
  }
 },
 "nbformat": 4,
 "nbformat_minor": 2,
 "cells": [
  {
   "cell_type": "code",
   "execution_count": 1,
   "metadata": {},
   "outputs": [],
   "source": [
    "import pandas as pd\n",
    "from habit_tracker import data"
   ]
  },
  {
   "cell_type": "code",
   "execution_count": 6,
   "metadata": {},
   "outputs": [],
   "source": [
    "df_cols = [\n",
    "    \"date\",\n",
    "    \"sleep\",\n",
    "    \"food\",\n",
    "    \"exercise\",\n",
    "    \"meditation\",\n",
    "    \"reading\",\n",
    "    \"journaling\",\n",
    "    \"learning\",\n",
    "    \"work\",\n",
    "    \"mood\",\n",
    "    \"energy\"\n",
    "]\n",
    "\n",
    "# some dummy data\n",
    "df_dict = {\n",
    "    \"date\": [\"2020-11-16\", \"2020-11-17\", \"2020-11-18\"],\n",
    "    \"sleep\": [7.5, 6.8, 8.0],\n",
    "    \"mood\": [4, 6, 5],\n",
    "    \"energy\": [4, 3, 5],\n",
    "    \"food\": [0, 1, 1],\n",
    "    \"exercise\": [0, 0, 0],\n",
    "    \"meditation\": [1, 1, 1],\n",
    "    \"reading\": [0, 1, 1],\n",
    "    \"journaling\": [0, 1, 1],\n",
    "    \"learning\": [1, 0, 1],\n",
    "    \"work\": [1, 1, 1]\n",
    "}\n",
    "\n",
    "df = pd.DataFrame.from_dict(df_dict)\n",
    "\n",
    "# df.date = pd.to_datetime(df.date)\n",
    "\n",
    "# df.to_csv(\"./habit_tracker/resources/habit_data.csv\", index=False)"
   ]
  },
  {
   "cell_type": "code",
   "execution_count": 3,
   "metadata": {},
   "outputs": [],
   "source": [
    "df_dict = {\n",
    "    \"date\": \"2020-11-19\",\n",
    "    \"sleep\": 7.5,\n",
    "    \"food\": 0,\n",
    "    \"exercise\": 0,\n",
    "    \"meditation\": 1,\n",
    "    \"reading\": 0,\n",
    "    \"journaling\": 0,\n",
    "    \"learning\": 1,\n",
    "    \"work\": 1,\n",
    "    \"mood\": 4,\n",
    "    \"energy\": 4\n",
    "}\n",
    "\n",
    "# df.append(df_dict, ignore_index=True)\n",
    "# data.add(df, df_dict)"
   ]
  },
  {
   "cell_type": "code",
   "execution_count": 21,
   "metadata": {},
   "outputs": [],
   "source": [
    "l = df.date.unique()"
   ]
  },
  {
   "cell_type": "code",
   "execution_count": 22,
   "metadata": {},
   "outputs": [
    {
     "output_type": "execute_result",
     "data": {
      "text/plain": [
       "array(['2020-11-16', '2020-11-17', '2020-11-18'], dtype=object)"
      ]
     },
     "metadata": {},
     "execution_count": 22
    }
   ],
   "source": [
    "l"
   ]
  },
  {
   "cell_type": "code",
   "execution_count": null,
   "metadata": {},
   "outputs": [],
   "source": []
  }
 ]
}